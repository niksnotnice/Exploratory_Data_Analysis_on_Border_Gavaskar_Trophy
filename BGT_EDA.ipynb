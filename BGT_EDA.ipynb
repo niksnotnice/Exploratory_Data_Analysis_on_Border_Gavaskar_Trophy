{
  "nbformat": 4,
  "nbformat_minor": 0,
  "metadata": {
    "colab": {
      "provenance": [],
      "toc_visible": true
    },
    "kernelspec": {
      "name": "python3",
      "display_name": "Python 3"
    },
    "language_info": {
      "name": "python"
    }
  },
  "cells": [
    {
      "cell_type": "markdown",
      "source": [
        "#Border Gavaskar trophy Analysis\n"
      ],
      "metadata": {
        "id": "zUoHRLtvUMB2"
      }
    },
    {
      "cell_type": "code",
      "execution_count": null,
      "metadata": {
        "id": "24tW1wW1De7V"
      },
      "outputs": [],
      "source": [
        "import numpy as np\n",
        "import pandas as pd"
      ]
    },
    {
      "cell_type": "code",
      "source": [
        "import os\n",
        "for dirname, _, filenames in os.walk('/kaggle/input'):\n",
        "    for filename in filenames:\n",
        "        print(os.path.join(dirname, filename))"
      ],
      "metadata": {
        "id": "BW4O8GbsHSqx"
      },
      "execution_count": null,
      "outputs": []
    },
    {
      "cell_type": "code",
      "source": [
        "df = pd.read_csv('/content/BGTresults.csv')\n",
        "df.head(5)"
      ],
      "metadata": {
        "colab": {
          "base_uri": "https://localhost:8080/",
          "height": 391
        },
        "id": "W0fXzI9sDuWa",
        "outputId": "984c4b79-0a9c-40ff-e677-a9bc661160c6"
      },
      "execution_count": null,
      "outputs": [
        {
          "output_type": "execute_result",
          "data": {
            "text/plain": [
              "  Test Series Year  Test Number  Innings    Venue   Host    Highest Scorer  \\\n",
              "0          1996-97            1        1    Delhi  India    Michael Slater   \n",
              "1          1996-97            1        2    Delhi  India      Nayan Mongia   \n",
              "2          1996-97            1        3    Delhi  India       Steve Waugh   \n",
              "3          1996-97            1        4    Delhi  India  Mohd. Azharuddin   \n",
              "4          1997-98            1        1  Chennai  India      Navjot Sidhu   \n",
              "\n",
              "        Team  Runs by highest scorer   best bowler  wickets by best bowler  \\\n",
              "0  Australia                      44   Anil Kumble                     4.0   \n",
              "1      India                     152  Paul Reiffel                     3.0   \n",
              "2  Australia                      67   Anil Kumble                     5.0   \n",
              "3      India                      21  Paul Reiffel                     2.0   \n",
              "4      India                      62   Shane Warne                     4.0   \n",
              "\n",
              "  team total Winner Win Margin              MOTM       Ind captain  \\\n",
              "0     182/10  India         7w      Nayan Mongia  Sachin Tendulkar   \n",
              "1     361/10  India         7w      Nayan Mongia  Sachin Tendulkar   \n",
              "2     234/10  India         7w      Nayan Mongia  Sachin Tendulkar   \n",
              "3       56/3  India         7w      Nayan Mongia  Sachin Tendulkar   \n",
              "4     257/10  India       179r  Sachin Tendulkar  Mohd. Azharuddin   \n",
              "\n",
              "   Aus captain              MOTS Series Win  \n",
              "0  Mark Taylor      Nayan Mongia      India  \n",
              "1  Mark Taylor      Nayan Mongia      India  \n",
              "2  Mark Taylor      Nayan Mongia      India  \n",
              "3  Mark Taylor      Nayan Mongia      India  \n",
              "4  Mark Taylor  Sachin Tendulkar      India  "
            ],
            "text/html": [
              "\n",
              "  <div id=\"df-89fc6ac7-bcfe-40e9-acc3-a027129eff6e\">\n",
              "    <div class=\"colab-df-container\">\n",
              "      <div>\n",
              "<style scoped>\n",
              "    .dataframe tbody tr th:only-of-type {\n",
              "        vertical-align: middle;\n",
              "    }\n",
              "\n",
              "    .dataframe tbody tr th {\n",
              "        vertical-align: top;\n",
              "    }\n",
              "\n",
              "    .dataframe thead th {\n",
              "        text-align: right;\n",
              "    }\n",
              "</style>\n",
              "<table border=\"1\" class=\"dataframe\">\n",
              "  <thead>\n",
              "    <tr style=\"text-align: right;\">\n",
              "      <th></th>\n",
              "      <th>Test Series Year</th>\n",
              "      <th>Test Number</th>\n",
              "      <th>Innings</th>\n",
              "      <th>Venue</th>\n",
              "      <th>Host</th>\n",
              "      <th>Highest Scorer</th>\n",
              "      <th>Team</th>\n",
              "      <th>Runs by highest scorer</th>\n",
              "      <th>best bowler</th>\n",
              "      <th>wickets by best bowler</th>\n",
              "      <th>team total</th>\n",
              "      <th>Winner</th>\n",
              "      <th>Win Margin</th>\n",
              "      <th>MOTM</th>\n",
              "      <th>Ind captain</th>\n",
              "      <th>Aus captain</th>\n",
              "      <th>MOTS</th>\n",
              "      <th>Series Win</th>\n",
              "    </tr>\n",
              "  </thead>\n",
              "  <tbody>\n",
              "    <tr>\n",
              "      <th>0</th>\n",
              "      <td>1996-97</td>\n",
              "      <td>1</td>\n",
              "      <td>1</td>\n",
              "      <td>Delhi</td>\n",
              "      <td>India</td>\n",
              "      <td>Michael Slater</td>\n",
              "      <td>Australia</td>\n",
              "      <td>44</td>\n",
              "      <td>Anil Kumble</td>\n",
              "      <td>4.0</td>\n",
              "      <td>182/10</td>\n",
              "      <td>India</td>\n",
              "      <td>7w</td>\n",
              "      <td>Nayan Mongia</td>\n",
              "      <td>Sachin Tendulkar</td>\n",
              "      <td>Mark Taylor</td>\n",
              "      <td>Nayan Mongia</td>\n",
              "      <td>India</td>\n",
              "    </tr>\n",
              "    <tr>\n",
              "      <th>1</th>\n",
              "      <td>1996-97</td>\n",
              "      <td>1</td>\n",
              "      <td>2</td>\n",
              "      <td>Delhi</td>\n",
              "      <td>India</td>\n",
              "      <td>Nayan Mongia</td>\n",
              "      <td>India</td>\n",
              "      <td>152</td>\n",
              "      <td>Paul Reiffel</td>\n",
              "      <td>3.0</td>\n",
              "      <td>361/10</td>\n",
              "      <td>India</td>\n",
              "      <td>7w</td>\n",
              "      <td>Nayan Mongia</td>\n",
              "      <td>Sachin Tendulkar</td>\n",
              "      <td>Mark Taylor</td>\n",
              "      <td>Nayan Mongia</td>\n",
              "      <td>India</td>\n",
              "    </tr>\n",
              "    <tr>\n",
              "      <th>2</th>\n",
              "      <td>1996-97</td>\n",
              "      <td>1</td>\n",
              "      <td>3</td>\n",
              "      <td>Delhi</td>\n",
              "      <td>India</td>\n",
              "      <td>Steve Waugh</td>\n",
              "      <td>Australia</td>\n",
              "      <td>67</td>\n",
              "      <td>Anil Kumble</td>\n",
              "      <td>5.0</td>\n",
              "      <td>234/10</td>\n",
              "      <td>India</td>\n",
              "      <td>7w</td>\n",
              "      <td>Nayan Mongia</td>\n",
              "      <td>Sachin Tendulkar</td>\n",
              "      <td>Mark Taylor</td>\n",
              "      <td>Nayan Mongia</td>\n",
              "      <td>India</td>\n",
              "    </tr>\n",
              "    <tr>\n",
              "      <th>3</th>\n",
              "      <td>1996-97</td>\n",
              "      <td>1</td>\n",
              "      <td>4</td>\n",
              "      <td>Delhi</td>\n",
              "      <td>India</td>\n",
              "      <td>Mohd. Azharuddin</td>\n",
              "      <td>India</td>\n",
              "      <td>21</td>\n",
              "      <td>Paul Reiffel</td>\n",
              "      <td>2.0</td>\n",
              "      <td>56/3</td>\n",
              "      <td>India</td>\n",
              "      <td>7w</td>\n",
              "      <td>Nayan Mongia</td>\n",
              "      <td>Sachin Tendulkar</td>\n",
              "      <td>Mark Taylor</td>\n",
              "      <td>Nayan Mongia</td>\n",
              "      <td>India</td>\n",
              "    </tr>\n",
              "    <tr>\n",
              "      <th>4</th>\n",
              "      <td>1997-98</td>\n",
              "      <td>1</td>\n",
              "      <td>1</td>\n",
              "      <td>Chennai</td>\n",
              "      <td>India</td>\n",
              "      <td>Navjot Sidhu</td>\n",
              "      <td>India</td>\n",
              "      <td>62</td>\n",
              "      <td>Shane Warne</td>\n",
              "      <td>4.0</td>\n",
              "      <td>257/10</td>\n",
              "      <td>India</td>\n",
              "      <td>179r</td>\n",
              "      <td>Sachin Tendulkar</td>\n",
              "      <td>Mohd. Azharuddin</td>\n",
              "      <td>Mark Taylor</td>\n",
              "      <td>Sachin Tendulkar</td>\n",
              "      <td>India</td>\n",
              "    </tr>\n",
              "  </tbody>\n",
              "</table>\n",
              "</div>\n",
              "      <button class=\"colab-df-convert\" onclick=\"convertToInteractive('df-89fc6ac7-bcfe-40e9-acc3-a027129eff6e')\"\n",
              "              title=\"Convert this dataframe to an interactive table.\"\n",
              "              style=\"display:none;\">\n",
              "        \n",
              "  <svg xmlns=\"http://www.w3.org/2000/svg\" height=\"24px\"viewBox=\"0 0 24 24\"\n",
              "       width=\"24px\">\n",
              "    <path d=\"M0 0h24v24H0V0z\" fill=\"none\"/>\n",
              "    <path d=\"M18.56 5.44l.94 2.06.94-2.06 2.06-.94-2.06-.94-.94-2.06-.94 2.06-2.06.94zm-11 1L8.5 8.5l.94-2.06 2.06-.94-2.06-.94L8.5 2.5l-.94 2.06-2.06.94zm10 10l.94 2.06.94-2.06 2.06-.94-2.06-.94-.94-2.06-.94 2.06-2.06.94z\"/><path d=\"M17.41 7.96l-1.37-1.37c-.4-.4-.92-.59-1.43-.59-.52 0-1.04.2-1.43.59L10.3 9.45l-7.72 7.72c-.78.78-.78 2.05 0 2.83L4 21.41c.39.39.9.59 1.41.59.51 0 1.02-.2 1.41-.59l7.78-7.78 2.81-2.81c.8-.78.8-2.07 0-2.86zM5.41 20L4 18.59l7.72-7.72 1.47 1.35L5.41 20z\"/>\n",
              "  </svg>\n",
              "      </button>\n",
              "      \n",
              "  <style>\n",
              "    .colab-df-container {\n",
              "      display:flex;\n",
              "      flex-wrap:wrap;\n",
              "      gap: 12px;\n",
              "    }\n",
              "\n",
              "    .colab-df-convert {\n",
              "      background-color: #E8F0FE;\n",
              "      border: none;\n",
              "      border-radius: 50%;\n",
              "      cursor: pointer;\n",
              "      display: none;\n",
              "      fill: #1967D2;\n",
              "      height: 32px;\n",
              "      padding: 0 0 0 0;\n",
              "      width: 32px;\n",
              "    }\n",
              "\n",
              "    .colab-df-convert:hover {\n",
              "      background-color: #E2EBFA;\n",
              "      box-shadow: 0px 1px 2px rgba(60, 64, 67, 0.3), 0px 1px 3px 1px rgba(60, 64, 67, 0.15);\n",
              "      fill: #174EA6;\n",
              "    }\n",
              "\n",
              "    [theme=dark] .colab-df-convert {\n",
              "      background-color: #3B4455;\n",
              "      fill: #D2E3FC;\n",
              "    }\n",
              "\n",
              "    [theme=dark] .colab-df-convert:hover {\n",
              "      background-color: #434B5C;\n",
              "      box-shadow: 0px 1px 3px 1px rgba(0, 0, 0, 0.15);\n",
              "      filter: drop-shadow(0px 1px 2px rgba(0, 0, 0, 0.3));\n",
              "      fill: #FFFFFF;\n",
              "    }\n",
              "  </style>\n",
              "\n",
              "      <script>\n",
              "        const buttonEl =\n",
              "          document.querySelector('#df-89fc6ac7-bcfe-40e9-acc3-a027129eff6e button.colab-df-convert');\n",
              "        buttonEl.style.display =\n",
              "          google.colab.kernel.accessAllowed ? 'block' : 'none';\n",
              "\n",
              "        async function convertToInteractive(key) {\n",
              "          const element = document.querySelector('#df-89fc6ac7-bcfe-40e9-acc3-a027129eff6e');\n",
              "          const dataTable =\n",
              "            await google.colab.kernel.invokeFunction('convertToInteractive',\n",
              "                                                     [key], {});\n",
              "          if (!dataTable) return;\n",
              "\n",
              "          const docLinkHtml = 'Like what you see? Visit the ' +\n",
              "            '<a target=\"_blank\" href=https://colab.research.google.com/notebooks/data_table.ipynb>data table notebook</a>'\n",
              "            + ' to learn more about interactive tables.';\n",
              "          element.innerHTML = '';\n",
              "          dataTable['output_type'] = 'display_data';\n",
              "          await google.colab.output.renderOutput(dataTable, element);\n",
              "          const docLink = document.createElement('div');\n",
              "          docLink.innerHTML = docLinkHtml;\n",
              "          element.appendChild(docLink);\n",
              "        }\n",
              "      </script>\n",
              "    </div>\n",
              "  </div>\n",
              "  "
            ]
          },
          "metadata": {},
          "execution_count": 8
        }
      ]
    },
    {
      "cell_type": "markdown",
      "source": [
        "We can see that the winner are displayed for every inning so we can't use value count directly we need to Group the Data according to Test Series Year and Test Number"
      ],
      "metadata": {
        "id": "iUzhb9pGHsbY"
      }
    },
    {
      "cell_type": "code",
      "source": [
        "df1=df.groupby([\"Test Series Year\",\"Test Number\"])[\"Winner\",\"Host\"].first()\n",
        "df1=df1.reset_index()\n",
        "df1.head()"
      ],
      "metadata": {
        "colab": {
          "base_uri": "https://localhost:8080/",
          "height": 261
        },
        "id": "1qy-IUY5DuTs",
        "outputId": "f6ff4b13-62b1-41cc-8726-a0427150a33a"
      },
      "execution_count": null,
      "outputs": [
        {
          "output_type": "stream",
          "name": "stderr",
          "text": [
            "<ipython-input-9-7859054beda2>:1: FutureWarning: Indexing with multiple keys (implicitly converted to a tuple of keys) will be deprecated, use a list instead.\n",
            "  df1=df.groupby([\"Test Series Year\",\"Test Number\"])[\"Winner\",\"Host\"].first()\n"
          ]
        },
        {
          "output_type": "execute_result",
          "data": {
            "text/plain": [
              "  Test Series Year  Test Number     Winner       Host\n",
              "0          1996-97            1      India      India\n",
              "1          1997-98            1      India      India\n",
              "2          1997-98            2      India      India\n",
              "3          1997-98            3  Australia      India\n",
              "4          1999-00            1  Australia  Australia"
            ],
            "text/html": [
              "\n",
              "  <div id=\"df-fe402d40-bd65-4b66-a1f4-c2ba6ee793b7\">\n",
              "    <div class=\"colab-df-container\">\n",
              "      <div>\n",
              "<style scoped>\n",
              "    .dataframe tbody tr th:only-of-type {\n",
              "        vertical-align: middle;\n",
              "    }\n",
              "\n",
              "    .dataframe tbody tr th {\n",
              "        vertical-align: top;\n",
              "    }\n",
              "\n",
              "    .dataframe thead th {\n",
              "        text-align: right;\n",
              "    }\n",
              "</style>\n",
              "<table border=\"1\" class=\"dataframe\">\n",
              "  <thead>\n",
              "    <tr style=\"text-align: right;\">\n",
              "      <th></th>\n",
              "      <th>Test Series Year</th>\n",
              "      <th>Test Number</th>\n",
              "      <th>Winner</th>\n",
              "      <th>Host</th>\n",
              "    </tr>\n",
              "  </thead>\n",
              "  <tbody>\n",
              "    <tr>\n",
              "      <th>0</th>\n",
              "      <td>1996-97</td>\n",
              "      <td>1</td>\n",
              "      <td>India</td>\n",
              "      <td>India</td>\n",
              "    </tr>\n",
              "    <tr>\n",
              "      <th>1</th>\n",
              "      <td>1997-98</td>\n",
              "      <td>1</td>\n",
              "      <td>India</td>\n",
              "      <td>India</td>\n",
              "    </tr>\n",
              "    <tr>\n",
              "      <th>2</th>\n",
              "      <td>1997-98</td>\n",
              "      <td>2</td>\n",
              "      <td>India</td>\n",
              "      <td>India</td>\n",
              "    </tr>\n",
              "    <tr>\n",
              "      <th>3</th>\n",
              "      <td>1997-98</td>\n",
              "      <td>3</td>\n",
              "      <td>Australia</td>\n",
              "      <td>India</td>\n",
              "    </tr>\n",
              "    <tr>\n",
              "      <th>4</th>\n",
              "      <td>1999-00</td>\n",
              "      <td>1</td>\n",
              "      <td>Australia</td>\n",
              "      <td>Australia</td>\n",
              "    </tr>\n",
              "  </tbody>\n",
              "</table>\n",
              "</div>\n",
              "      <button class=\"colab-df-convert\" onclick=\"convertToInteractive('df-fe402d40-bd65-4b66-a1f4-c2ba6ee793b7')\"\n",
              "              title=\"Convert this dataframe to an interactive table.\"\n",
              "              style=\"display:none;\">\n",
              "        \n",
              "  <svg xmlns=\"http://www.w3.org/2000/svg\" height=\"24px\"viewBox=\"0 0 24 24\"\n",
              "       width=\"24px\">\n",
              "    <path d=\"M0 0h24v24H0V0z\" fill=\"none\"/>\n",
              "    <path d=\"M18.56 5.44l.94 2.06.94-2.06 2.06-.94-2.06-.94-.94-2.06-.94 2.06-2.06.94zm-11 1L8.5 8.5l.94-2.06 2.06-.94-2.06-.94L8.5 2.5l-.94 2.06-2.06.94zm10 10l.94 2.06.94-2.06 2.06-.94-2.06-.94-.94-2.06-.94 2.06-2.06.94z\"/><path d=\"M17.41 7.96l-1.37-1.37c-.4-.4-.92-.59-1.43-.59-.52 0-1.04.2-1.43.59L10.3 9.45l-7.72 7.72c-.78.78-.78 2.05 0 2.83L4 21.41c.39.39.9.59 1.41.59.51 0 1.02-.2 1.41-.59l7.78-7.78 2.81-2.81c.8-.78.8-2.07 0-2.86zM5.41 20L4 18.59l7.72-7.72 1.47 1.35L5.41 20z\"/>\n",
              "  </svg>\n",
              "      </button>\n",
              "      \n",
              "  <style>\n",
              "    .colab-df-container {\n",
              "      display:flex;\n",
              "      flex-wrap:wrap;\n",
              "      gap: 12px;\n",
              "    }\n",
              "\n",
              "    .colab-df-convert {\n",
              "      background-color: #E8F0FE;\n",
              "      border: none;\n",
              "      border-radius: 50%;\n",
              "      cursor: pointer;\n",
              "      display: none;\n",
              "      fill: #1967D2;\n",
              "      height: 32px;\n",
              "      padding: 0 0 0 0;\n",
              "      width: 32px;\n",
              "    }\n",
              "\n",
              "    .colab-df-convert:hover {\n",
              "      background-color: #E2EBFA;\n",
              "      box-shadow: 0px 1px 2px rgba(60, 64, 67, 0.3), 0px 1px 3px 1px rgba(60, 64, 67, 0.15);\n",
              "      fill: #174EA6;\n",
              "    }\n",
              "\n",
              "    [theme=dark] .colab-df-convert {\n",
              "      background-color: #3B4455;\n",
              "      fill: #D2E3FC;\n",
              "    }\n",
              "\n",
              "    [theme=dark] .colab-df-convert:hover {\n",
              "      background-color: #434B5C;\n",
              "      box-shadow: 0px 1px 3px 1px rgba(0, 0, 0, 0.15);\n",
              "      filter: drop-shadow(0px 1px 2px rgba(0, 0, 0, 0.3));\n",
              "      fill: #FFFFFF;\n",
              "    }\n",
              "  </style>\n",
              "\n",
              "      <script>\n",
              "        const buttonEl =\n",
              "          document.querySelector('#df-fe402d40-bd65-4b66-a1f4-c2ba6ee793b7 button.colab-df-convert');\n",
              "        buttonEl.style.display =\n",
              "          google.colab.kernel.accessAllowed ? 'block' : 'none';\n",
              "\n",
              "        async function convertToInteractive(key) {\n",
              "          const element = document.querySelector('#df-fe402d40-bd65-4b66-a1f4-c2ba6ee793b7');\n",
              "          const dataTable =\n",
              "            await google.colab.kernel.invokeFunction('convertToInteractive',\n",
              "                                                     [key], {});\n",
              "          if (!dataTable) return;\n",
              "\n",
              "          const docLinkHtml = 'Like what you see? Visit the ' +\n",
              "            '<a target=\"_blank\" href=https://colab.research.google.com/notebooks/data_table.ipynb>data table notebook</a>'\n",
              "            + ' to learn more about interactive tables.';\n",
              "          element.innerHTML = '';\n",
              "          dataTable['output_type'] = 'display_data';\n",
              "          await google.colab.output.renderOutput(dataTable, element);\n",
              "          const docLink = document.createElement('div');\n",
              "          docLink.innerHTML = docLinkHtml;\n",
              "          element.appendChild(docLink);\n",
              "        }\n",
              "      </script>\n",
              "    </div>\n",
              "  </div>\n",
              "  "
            ]
          },
          "metadata": {},
          "execution_count": 9
        }
      ]
    },
    {
      "cell_type": "code",
      "source": [
        "import matplotlib.pyplot as plt\n",
        "import seaborn as sns\n",
        "df1[\"Winner\"].value_counts().plot(kind=\"barh\")\n",
        "plt.ylabel(\"WINNER\")\n",
        "plt.xlabel(\"NO. OF MATCHES\")"
      ],
      "metadata": {
        "colab": {
          "base_uri": "https://localhost:8080/",
          "height": 296
        },
        "id": "GnF4NAI5DuRM",
        "outputId": "d691e04f-7ff9-47a0-fdf7-09bb5d958422"
      },
      "execution_count": null,
      "outputs": [
        {
          "output_type": "execute_result",
          "data": {
            "text/plain": [
              "Text(0.5, 0, 'NO. OF MATCHES')"
            ]
          },
          "metadata": {},
          "execution_count": 10
        },
        {
          "output_type": "display_data",
          "data": {
            "text/plain": [
              "<Figure size 432x288 with 1 Axes>"
            ],
            "image/png": "[encoded data removed]"
          },
          "metadata": {
            "needs_background": "light"
          }
        }
      ]
    },
    {
      "cell_type": "markdown",
      "source": [
        "India has won more matches than Australia"
      ],
      "metadata": {
        "id": "rWsRbuSVIIVJ"
      }
    },
    {
      "cell_type": "code",
      "source": [
        "sns.catplot(x=\"Host\",hue=\"Winner\",kind=\"count\",data=df1)"
      ],
      "metadata": {
        "colab": {
          "base_uri": "https://localhost:8080/",
          "height": 386
        },
        "id": "xbDlfzqGDuOd",
        "outputId": "7fcdb0ca-8745-4e49-e37e-fe9706561cc0"
      },
      "execution_count": null,
      "outputs": [
        {
          "output_type": "execute_result",
          "data": {
            "text/plain": [
              "<seaborn.axisgrid.FacetGrid at 0x7effdf44f0d0>"
            ]
          },
          "metadata": {},
          "execution_count": 11
        },
        {
          "output_type": "display_data",
          "data": {
            "text/plain": [
              "<Figure size 440.5x360 with 1 Axes>"
            ],
            "image/png": "[encoded data removed]"
          },
          "metadata": {
            "needs_background": "light"
          }
        }
      ]
    },
    {
      "cell_type": "markdown",
      "source": [
        "India are dominating at Home while most of the matches at Australia are without Result"
      ],
      "metadata": {
        "id": "4CFTlHBVISgE"
      }
    },
    {
      "cell_type": "code",
      "source": [
        "sns.catplot(x=\"Test Number\",hue=\"Winner\",kind=\"count\",data=df1)"
      ],
      "metadata": {
        "colab": {
          "base_uri": "https://localhost:8080/",
          "height": 386
        },
        "id": "16ysPM3pDuLR",
        "outputId": "3daf4b1c-7811-4448-d976-afe37a70e3a2"
      },
      "execution_count": null,
      "outputs": [
        {
          "output_type": "execute_result",
          "data": {
            "text/plain": [
              "<seaborn.axisgrid.FacetGrid at 0x7effdf46e430>"
            ]
          },
          "metadata": {},
          "execution_count": 12
        },
        {
          "output_type": "display_data",
          "data": {
            "text/plain": [
              "<Figure size 440.5x360 with 1 Axes>"
            ],
            "image/png": "[encoded data removed]"
          },
          "metadata": {
            "needs_background": "light"
          }
        }
      ]
    },
    {
      "cell_type": "markdown",
      "source": [
        "It is seen that Australia mostly takes lead at the First Match but India is ready with a comeback"
      ],
      "metadata": {
        "id": "YoqQtdK_Ib_3"
      }
    },
    {
      "cell_type": "code",
      "source": [
        "sns.catplot(x=\"Winner\",y=\"Test Series Year\",kind=\"swarm\",data=df1)"
      ],
      "metadata": {
        "colab": {
          "base_uri": "https://localhost:8080/",
          "height": 386
        },
        "id": "8Sn4bvh_DuIY",
        "outputId": "77da14fc-d730-42bd-a5f3-a609f765ddfc"
      },
      "execution_count": null,
      "outputs": [
        {
          "output_type": "execute_result",
          "data": {
            "text/plain": [
              "<seaborn.axisgrid.FacetGrid at 0x7effdc75b4c0>"
            ]
          },
          "metadata": {},
          "execution_count": 13
        },
        {
          "output_type": "display_data",
          "data": {
            "text/plain": [
              "<Figure size 360x360 with 1 Axes>"
            ],
            "image/png": "[encoded data removed]"
          },
          "metadata": {
            "needs_background": "light"
          }
        }
      ]
    },
    {
      "cell_type": "markdown",
      "source": [
        "We can See that in the past few years Australia were Dominating"
      ],
      "metadata": {
        "id": "s_wrtAkYIknH"
      }
    },
    {
      "cell_type": "code",
      "source": [
        "df.groupby(\"best bowler\")[\"best bowler\"].count().sort_values().tail().plot(kind=\"barh\")\n",
        "plt.ylabel(\"Total Innings\")"
      ],
      "metadata": {
        "colab": {
          "base_uri": "https://localhost:8080/",
          "height": 282
        },
        "id": "VCuwQ1yKDuFp",
        "outputId": "662d4f2c-20b9-49a1-f5f7-1d4ec56364d5"
      },
      "execution_count": null,
      "outputs": [
        {
          "output_type": "execute_result",
          "data": {
            "text/plain": [
              "Text(0, 0.5, 'Total Innings')"
            ]
          },
          "metadata": {},
          "execution_count": 14
        },
        {
          "output_type": "display_data",
          "data": {
            "text/plain": [
              "<Figure size 432x288 with 1 Axes>"
            ],
            "image/png": "[encoded data removed]"
          },
          "metadata": {
            "needs_background": "light"
          }
        }
      ]
    },
    {
      "cell_type": "markdown",
      "source": [
        "Domanating Bowlers"
      ],
      "metadata": {
        "id": "j_MVlTH0I3pV"
      }
    },
    {
      "cell_type": "code",
      "source": [
        "df.groupby(\"Highest Scorer\")[\"Highest Scorer\"].count().sort_values().tail().plot(kind=\"barh\")"
      ],
      "metadata": {
        "colab": {
          "base_uri": "https://localhost:8080/",
          "height": 282
        },
        "id": "HX-Rm0IPDuCw",
        "outputId": "f834e926-f907-489b-ef60-5b5f6e97b6f6"
      },
      "execution_count": null,
      "outputs": [
        {
          "output_type": "execute_result",
          "data": {
            "text/plain": [
              "<matplotlib.axes._subplots.AxesSubplot at 0x7effdc620970>"
            ]
          },
          "metadata": {},
          "execution_count": 15
        },
        {
          "output_type": "display_data",
          "data": {
            "text/plain": [
              "<Figure size 432x288 with 1 Axes>"
            ],
            "image/png": "[encoded data removed]"
          },
          "metadata": {
            "needs_background": "light"
          }
        }
      ]
    },
    {
      "cell_type": "markdown",
      "source": [
        "Domanating batsmen"
      ],
      "metadata": {
        "id": "smW4rZGBJB9M"
      }
    },
    {
      "cell_type": "code",
      "source": [
        "df.groupby(\"MOTM\")[\"MOTM\"].count().sort_values().tail().plot(kind=\"barh\")"
      ],
      "metadata": {
        "colab": {
          "base_uri": "https://localhost:8080/",
          "height": 282
        },
        "id": "bFhyplNvDt_3",
        "outputId": "8b55c600-f976-4c91-dba7-c51e0d0aa5ac"
      },
      "execution_count": null,
      "outputs": [
        {
          "output_type": "execute_result",
          "data": {
            "text/plain": [
              "<matplotlib.axes._subplots.AxesSubplot at 0x7effdc569f70>"
            ]
          },
          "metadata": {},
          "execution_count": 16
        },
        {
          "output_type": "display_data",
          "data": {
            "text/plain": [
              "<Figure size 432x288 with 1 Axes>"
            ],
            "image/png": "[encoded data removed]"
          },
          "metadata": {
            "needs_background": "light"
          }
        }
      ]
    },
    {
      "cell_type": "markdown",
      "source": [
        "Most man of the match"
      ],
      "metadata": {
        "id": "BClyHQ39JNss"
      }
    },
    {
      "cell_type": "code",
      "source": [
        "df.groupby(\"MOTS\")[\"MOTS\"].count().sort_values().tail().plot(kind=\"barh\")"
      ],
      "metadata": {
        "colab": {
          "base_uri": "https://localhost:8080/",
          "height": 282
        },
        "id": "W6OhhuXIDt9J",
        "outputId": "890e999c-7d30-4baa-d92b-529228e6e01e"
      },
      "execution_count": null,
      "outputs": [
        {
          "output_type": "execute_result",
          "data": {
            "text/plain": [
              "<matplotlib.axes._subplots.AxesSubplot at 0x7effdc550400>"
            ]
          },
          "metadata": {},
          "execution_count": 17
        },
        {
          "output_type": "display_data",
          "data": {
            "text/plain": [
              "<Figure size 432x288 with 1 Axes>"
            ],
            "image/png": "[encoded data removed]"
          },
          "metadata": {
            "needs_background": "light"
          }
        }
      ]
    },
    {
      "cell_type": "markdown",
      "source": [
        "Most Man of the series"
      ],
      "metadata": {
        "id": "TEAOrlKMJwH6"
      }
    },
    {
      "cell_type": "code",
      "source": [
        "df2=df.groupby([\"Test Series Year\",\"Test Number\"])[\"Winner\",\"Ind captain\",\"Aus captain\"].first()\n",
        "df2=df2.reset_index()\n",
        "df2.head()"
      ],
      "metadata": {
        "colab": {
          "base_uri": "https://localhost:8080/",
          "height": 261
        },
        "id": "4DH0NyBpDt63",
        "outputId": "8f5b66b4-b998-4a47-d68e-081ee15b9efd"
      },
      "execution_count": null,
      "outputs": [
        {
          "output_type": "stream",
          "name": "stderr",
          "text": [
            "<ipython-input-18-5fe20ffd53f3>:1: FutureWarning: Indexing with multiple keys (implicitly converted to a tuple of keys) will be deprecated, use a list instead.\n",
            "  df2=df.groupby([\"Test Series Year\",\"Test Number\"])[\"Winner\",\"Ind captain\",\"Aus captain\"].first()\n"
          ]
        },
        {
          "output_type": "execute_result",
          "data": {
            "text/plain": [
              "  Test Series Year  Test Number     Winner       Ind captain  Aus captain\n",
              "0          1996-97            1      India  Sachin Tendulkar  Mark Taylor\n",
              "1          1997-98            1      India  Mohd. Azharuddin  Mark Taylor\n",
              "2          1997-98            2      India  Mohd. Azharuddin  Mark Taylor\n",
              "3          1997-98            3  Australia  Mohd. Azharuddin  Mark Taylor\n",
              "4          1999-00            1  Australia  Sachin Tendulkar  Steve Waugh"
            ],
            "text/html": [
              "\n",
              "  <div id=\"df-65bece78-5fde-4a6f-836a-645c8a7bc110\">\n",
              "    <div class=\"colab-df-container\">\n",
              "      <div>\n",
              "<style scoped>\n",
              "    .dataframe tbody tr th:only-of-type {\n",
              "        vertical-align: middle;\n",
              "    }\n",
              "\n",
              "    .dataframe tbody tr th {\n",
              "        vertical-align: top;\n",
              "    }\n",
              "\n",
              "    .dataframe thead th {\n",
              "        text-align: right;\n",
              "    }\n",
              "</style>\n",
              "<table border=\"1\" class=\"dataframe\">\n",
              "  <thead>\n",
              "    <tr style=\"text-align: right;\">\n",
              "      <th></th>\n",
              "      <th>Test Series Year</th>\n",
              "      <th>Test Number</th>\n",
              "      <th>Winner</th>\n",
              "      <th>Ind captain</th>\n",
              "      <th>Aus captain</th>\n",
              "    </tr>\n",
              "  </thead>\n",
              "  <tbody>\n",
              "    <tr>\n",
              "      <th>0</th>\n",
              "      <td>1996-97</td>\n",
              "      <td>1</td>\n",
              "      <td>India</td>\n",
              "      <td>Sachin Tendulkar</td>\n",
              "      <td>Mark Taylor</td>\n",
              "    </tr>\n",
              "    <tr>\n",
              "      <th>1</th>\n",
              "      <td>1997-98</td>\n",
              "      <td>1</td>\n",
              "      <td>India</td>\n",
              "      <td>Mohd. Azharuddin</td>\n",
              "      <td>Mark Taylor</td>\n",
              "    </tr>\n",
              "    <tr>\n",
              "      <th>2</th>\n",
              "      <td>1997-98</td>\n",
              "      <td>2</td>\n",
              "      <td>India</td>\n",
              "      <td>Mohd. Azharuddin</td>\n",
              "      <td>Mark Taylor</td>\n",
              "    </tr>\n",
              "    <tr>\n",
              "      <th>3</th>\n",
              "      <td>1997-98</td>\n",
              "      <td>3</td>\n",
              "      <td>Australia</td>\n",
              "      <td>Mohd. Azharuddin</td>\n",
              "      <td>Mark Taylor</td>\n",
              "    </tr>\n",
              "    <tr>\n",
              "      <th>4</th>\n",
              "      <td>1999-00</td>\n",
              "      <td>1</td>\n",
              "      <td>Australia</td>\n",
              "      <td>Sachin Tendulkar</td>\n",
              "      <td>Steve Waugh</td>\n",
              "    </tr>\n",
              "  </tbody>\n",
              "</table>\n",
              "</div>\n",
              "      <button class=\"colab-df-convert\" onclick=\"convertToInteractive('df-65bece78-5fde-4a6f-836a-645c8a7bc110')\"\n",
              "              title=\"Convert this dataframe to an interactive table.\"\n",
              "              style=\"display:none;\">\n",
              "        \n",
              "  <svg xmlns=\"http://www.w3.org/2000/svg\" height=\"24px\"viewBox=\"0 0 24 24\"\n",
              "       width=\"24px\">\n",
              "    <path d=\"M0 0h24v24H0V0z\" fill=\"none\"/>\n",
              "    <path d=\"M18.56 5.44l.94 2.06.94-2.06 2.06-.94-2.06-.94-.94-2.06-.94 2.06-2.06.94zm-11 1L8.5 8.5l.94-2.06 2.06-.94-2.06-.94L8.5 2.5l-.94 2.06-2.06.94zm10 10l.94 2.06.94-2.06 2.06-.94-2.06-.94-.94-2.06-.94 2.06-2.06.94z\"/><path d=\"M17.41 7.96l-1.37-1.37c-.4-.4-.92-.59-1.43-.59-.52 0-1.04.2-1.43.59L10.3 9.45l-7.72 7.72c-.78.78-.78 2.05 0 2.83L4 21.41c.39.39.9.59 1.41.59.51 0 1.02-.2 1.41-.59l7.78-7.78 2.81-2.81c.8-.78.8-2.07 0-2.86zM5.41 20L4 18.59l7.72-7.72 1.47 1.35L5.41 20z\"/>\n",
              "  </svg>\n",
              "      </button>\n",
              "      \n",
              "  <style>\n",
              "    .colab-df-container {\n",
              "      display:flex;\n",
              "      flex-wrap:wrap;\n",
              "      gap: 12px;\n",
              "    }\n",
              "\n",
              "    .colab-df-convert {\n",
              "      background-color: #E8F0FE;\n",
              "      border: none;\n",
              "      border-radius: 50%;\n",
              "      cursor: pointer;\n",
              "      display: none;\n",
              "      fill: #1967D2;\n",
              "      height: 32px;\n",
              "      padding: 0 0 0 0;\n",
              "      width: 32px;\n",
              "    }\n",
              "\n",
              "    .colab-df-convert:hover {\n",
              "      background-color: #E2EBFA;\n",
              "      box-shadow: 0px 1px 2px rgba(60, 64, 67, 0.3), 0px 1px 3px 1px rgba(60, 64, 67, 0.15);\n",
              "      fill: #174EA6;\n",
              "    }\n",
              "\n",
              "    [theme=dark] .colab-df-convert {\n",
              "      background-color: #3B4455;\n",
              "      fill: #D2E3FC;\n",
              "    }\n",
              "\n",
              "    [theme=dark] .colab-df-convert:hover {\n",
              "      background-color: #434B5C;\n",
              "      box-shadow: 0px 1px 3px 1px rgba(0, 0, 0, 0.15);\n",
              "      filter: drop-shadow(0px 1px 2px rgba(0, 0, 0, 0.3));\n",
              "      fill: #FFFFFF;\n",
              "    }\n",
              "  </style>\n",
              "\n",
              "      <script>\n",
              "        const buttonEl =\n",
              "          document.querySelector('#df-65bece78-5fde-4a6f-836a-645c8a7bc110 button.colab-df-convert');\n",
              "        buttonEl.style.display =\n",
              "          google.colab.kernel.accessAllowed ? 'block' : 'none';\n",
              "\n",
              "        async function convertToInteractive(key) {\n",
              "          const element = document.querySelector('#df-65bece78-5fde-4a6f-836a-645c8a7bc110');\n",
              "          const dataTable =\n",
              "            await google.colab.kernel.invokeFunction('convertToInteractive',\n",
              "                                                     [key], {});\n",
              "          if (!dataTable) return;\n",
              "\n",
              "          const docLinkHtml = 'Like what you see? Visit the ' +\n",
              "            '<a target=\"_blank\" href=https://colab.research.google.com/notebooks/data_table.ipynb>data table notebook</a>'\n",
              "            + ' to learn more about interactive tables.';\n",
              "          element.innerHTML = '';\n",
              "          dataTable['output_type'] = 'display_data';\n",
              "          await google.colab.output.renderOutput(dataTable, element);\n",
              "          const docLink = document.createElement('div');\n",
              "          docLink.innerHTML = docLinkHtml;\n",
              "          element.appendChild(docLink);\n",
              "        }\n",
              "      </script>\n",
              "    </div>\n",
              "  </div>\n",
              "  "
            ]
          },
          "metadata": {},
          "execution_count": 18
        }
      ]
    },
    {
      "cell_type": "code",
      "source": [
        "ind_W=df2[df2[\"Winner\"]==\"India\"]\n",
        "ind_W.groupby(\"Ind captain\")[\"Ind captain\"].count().sort_values(ascending=False).plot(kind=\"pie\")"
      ],
      "metadata": {
        "colab": {
          "base_uri": "https://localhost:8080/",
          "height": 265
        },
        "id": "JdlkzRkmDt4A",
        "outputId": "ef375616-9b97-4542-d91c-b2426c873ce4"
      },
      "execution_count": null,
      "outputs": [
        {
          "output_type": "execute_result",
          "data": {
            "text/plain": [
              "<matplotlib.axes._subplots.AxesSubplot at 0x7effdc4c3b20>"
            ]
          },
          "metadata": {},
          "execution_count": 19
        },
        {
          "output_type": "display_data",
          "data": {
            "text/plain": [
              "<Figure size 432x288 with 1 Axes>"
            ],
            "image/png": "[encoded data removed]"
          },
          "metadata": {}
        }
      ]
    },
    {
      "cell_type": "markdown",
      "source": [
        "MS Dhoni was the most successful captain for India"
      ],
      "metadata": {
        "id": "PVTyjzwWKQWN"
      }
    },
    {
      "cell_type": "code",
      "source": [
        "aus_W=df2[df2[\"Winner\"]==\"Australia\"]\n",
        "aus_W.groupby(\"Aus captain\")[\"Aus captain\"].count().sort_values(ascending=False).plot(kind=\"pie\")"
      ],
      "metadata": {
        "colab": {
          "base_uri": "https://localhost:8080/",
          "height": 265
        },
        "id": "BrHd3pMvDt1V",
        "outputId": "a3a5fed1-6874-457d-b915-29db70619a88"
      },
      "execution_count": null,
      "outputs": [
        {
          "output_type": "execute_result",
          "data": {
            "text/plain": [
              "<matplotlib.axes._subplots.AxesSubplot at 0x7effdc43c730>"
            ]
          },
          "metadata": {},
          "execution_count": 20
        },
        {
          "output_type": "display_data",
          "data": {
            "text/plain": [
              "<Figure size 432x288 with 1 Axes>"
            ],
            "image/png": "[encoded data removed]"
          },
          "metadata": {}
        }
      ]
    },
    {
      "cell_type": "markdown",
      "source": [
        "Michael Clarke and Steve Waugh were successful captains for Australia"
      ],
      "metadata": {
        "id": "lkcbJMF1Koet"
      }
    },
    {
      "cell_type": "code",
      "source": [
        "df.info()"
      ],
      "metadata": {
        "colab": {
          "base_uri": "https://localhost:8080/"
        },
        "id": "T1yiiOnrDtvq",
        "outputId": "f5e2351c-231e-41ea-a54b-84b9a8b22a8d"
      },
      "execution_count": null,
      "outputs": [
        {
          "output_type": "stream",
          "name": "stdout",
          "text": [
            "<class 'pandas.core.frame.DataFrame'>\n",
            "RangeIndex: 200 entries, 0 to 199\n",
            "Data columns (total 18 columns):\n",
            " #   Column                  Non-Null Count  Dtype  \n",
            "---  ------                  --------------  -----  \n",
            " 0   Test Series Year        200 non-null    object \n",
            " 1   Test Number             200 non-null    int64  \n",
            " 2   Innings                 200 non-null    int64  \n",
            " 3   Venue                   200 non-null    object \n",
            " 4   Host                    200 non-null    object \n",
            " 5   Highest Scorer          200 non-null    object \n",
            " 6   Team                    200 non-null    object \n",
            " 7   Runs by highest scorer  200 non-null    int64  \n",
            " 8   best bowler             200 non-null    object \n",
            " 9   wickets by best bowler  199 non-null    float64\n",
            " 10  team total              200 non-null    object \n",
            " 11  Winner                  200 non-null    object \n",
            " 12  Win Margin              200 non-null    object \n",
            " 13  MOTM                    200 non-null    object \n",
            " 14  Ind captain             200 non-null    object \n",
            " 15  Aus captain             200 non-null    object \n",
            " 16  MOTS                    200 non-null    object \n",
            " 17  Series Win              200 non-null    object \n",
            "dtypes: float64(1), int64(3), object(14)\n",
            "memory usage: 28.2+ KB\n"
          ]
        }
      ]
    },
    {
      "cell_type": "code",
      "source": [
        "x = df.iloc[:,1:3].values\n",
        "x"
      ],
      "metadata": {
        "id": "Z_clZUZtDts7"
      },
      "execution_count": null,
      "outputs": []
    },
    {
      "cell_type": "code",
      "source": [
        "y = df.iloc[:,11].values\n",
        "y"
      ],
      "metadata": {
        "id": "EGZeY1_vDtqX"
      },
      "execution_count": null,
      "outputs": []
    },
    {
      "cell_type": "code",
      "source": [
        "df['Winner'].value_counts()"
      ],
      "metadata": {
        "colab": {
          "base_uri": "https://localhost:8080/"
        },
        "id": "xd111WQXRVwC",
        "outputId": "94545dc2-6e7b-45a2-a084-041887ddf48e"
      },
      "execution_count": null,
      "outputs": [
        {
          "output_type": "execute_result",
          "data": {
            "text/plain": [
              "India        86\n",
              "Australia    73\n",
              "Drawn        41\n",
              "Name: Winner, dtype: int64"
            ]
          },
          "metadata": {},
          "execution_count": 44
        }
      ]
    },
    {
      "cell_type": "code",
      "source": [
        "from sklearn.model_selection import train_test_split\n",
        "x_train,x_test,y_train,y_test = train_test_split(x,y,random_state = 0)"
      ],
      "metadata": {
        "id": "DwgcAXhNRVsb"
      },
      "execution_count": null,
      "outputs": []
    },
    {
      "cell_type": "code",
      "source": [
        "print(x.shape)\n",
        "print(x_train.shape)\n",
        "print(x_test.shape)"
      ],
      "metadata": {
        "colab": {
          "base_uri": "https://localhost:8080/"
        },
        "id": "52n8ykEuRVp-",
        "outputId": "d94d81af-d5eb-4f21-820f-27e85ac9b98f"
      },
      "execution_count": null,
      "outputs": [
        {
          "output_type": "stream",
          "name": "stdout",
          "text": [
            "(200, 2)\n",
            "(150, 2)\n",
            "(50, 2)\n"
          ]
        }
      ]
    },
    {
      "cell_type": "code",
      "source": [
        "print(y.shape)\n",
        "print(y_train.shape)\n",
        "print(y_test.shape)"
      ],
      "metadata": {
        "colab": {
          "base_uri": "https://localhost:8080/"
        },
        "id": "0Bq3gqstRVne",
        "outputId": "aeefc804-390d-424a-ac30-f544c96c2464"
      },
      "execution_count": null,
      "outputs": [
        {
          "output_type": "stream",
          "name": "stdout",
          "text": [
            "(200,)\n",
            "(150,)\n",
            "(50,)\n"
          ]
        }
      ]
    },
    {
      "cell_type": "code",
      "source": [
        "from sklearn.preprocessing import MinMaxScaler\n",
        "scaler = MinMaxScaler()\n",
        "x_train = scaler.fit_transform(x_train)\n",
        "x_test = scaler.fit_transform(x_test)"
      ],
      "metadata": {
        "id": "YjKm916nRVkb"
      },
      "execution_count": null,
      "outputs": []
    },
    {
      "cell_type": "code",
      "source": [
        "from sklearn.linear_model import LogisticRegression\n",
        "model = LogisticRegression()"
      ],
      "metadata": {
        "id": "x2Ly49zQRVhr"
      },
      "execution_count": null,
      "outputs": []
    },
    {
      "cell_type": "code",
      "source": [
        "model.fit(x_train,y_train)"
      ],
      "metadata": {
        "colab": {
          "base_uri": "https://localhost:8080/"
        },
        "id": "HxL0XM56RVep",
        "outputId": "4fcfedfd-877b-4c2c-b38b-4282b57ef3a0"
      },
      "execution_count": null,
      "outputs": [
        {
          "output_type": "execute_result",
          "data": {
            "text/plain": [
              "LogisticRegression()"
            ]
          },
          "metadata": {},
          "execution_count": 48
        }
      ]
    },
    {
      "cell_type": "code",
      "source": [
        "y_pred = model.predict(x_test)\n",
        "y_pred"
      ],
      "metadata": {
        "id": "aDkG6N-PRVbi"
      },
      "execution_count": null,
      "outputs": []
    },
    {
      "cell_type": "code",
      "source": [
        "y_test"
      ],
      "metadata": {
        "id": "C6V6GS9gRVZA"
      },
      "execution_count": null,
      "outputs": []
    },
    {
      "cell_type": "markdown",
      "source": [
        "#Accuracy of the Model"
      ],
      "metadata": {
        "id": "tVCKATdIT9SO"
      }
    },
    {
      "cell_type": "code",
      "source": [
        "from sklearn.metrics import accuracy_score\n",
        "accuracy_score(y_pred,y_test)* 100"
      ],
      "metadata": {
        "colab": {
          "base_uri": "https://localhost:8080/"
        },
        "id": "a8LyEOUgRVVx",
        "outputId": "58c31e5c-81c3-46a7-d009-79fe3d905da2"
      },
      "execution_count": null,
      "outputs": [
        {
          "output_type": "execute_result",
          "data": {
            "text/plain": [
              "52.0"
            ]
          },
          "metadata": {},
          "execution_count": 51
        }
      ]
    },
    {
      "cell_type": "code",
      "source": [
        "a = scaler.transform([[25,50000]])\n",
        "a"
      ],
      "metadata": {
        "colab": {
          "base_uri": "https://localhost:8080/"
        },
        "id": "v4rjkZ-lRVTD",
        "outputId": "107f9de4-31dc-409f-bc4a-b4569423884e"
      },
      "execution_count": null,
      "outputs": [
        {
          "output_type": "execute_result",
          "data": {
            "text/plain": [
              "array([[8.00000000e+00, 1.66663333e+04]])"
            ]
          },
          "metadata": {},
          "execution_count": 52
        }
      ]
    },
    {
      "cell_type": "code",
      "source": [
        "model.predict(a)"
      ],
      "metadata": {
        "colab": {
          "base_uri": "https://localhost:8080/"
        },
        "id": "oMALyJnKRVQQ",
        "outputId": "d903424c-f98b-4274-bb5a-569e86210352"
      },
      "execution_count": null,
      "outputs": [
        {
          "output_type": "execute_result",
          "data": {
            "text/plain": [
              "array(['India'], dtype=object)"
            ]
          },
          "metadata": {},
          "execution_count": 53
        }
      ]
    },
    {
      "cell_type": "code",
      "source": [
        "b = scaler.transform([[50,35000]])\n",
        "b"
      ],
      "metadata": {
        "colab": {
          "base_uri": "https://localhost:8080/"
        },
        "id": "pLXKbePqTxlS",
        "outputId": "02326977-73a0-4841-d5c0-986e58b209a8"
      },
      "execution_count": null,
      "outputs": [
        {
          "output_type": "execute_result",
          "data": {
            "text/plain": [
              "array([[   16.33333333, 11666.33333333]])"
            ]
          },
          "metadata": {},
          "execution_count": 56
        }
      ]
    },
    {
      "cell_type": "code",
      "source": [
        "model.predict(b)"
      ],
      "metadata": {
        "colab": {
          "base_uri": "https://localhost:8080/"
        },
        "id": "_hfgfR5qRVNw",
        "outputId": "7466252a-2370-4ea0-9b9b-48ef2ca793a8"
      },
      "execution_count": null,
      "outputs": [
        {
          "output_type": "execute_result",
          "data": {
            "text/plain": [
              "array(['India'], dtype=object)"
            ]
          },
          "metadata": {},
          "execution_count": 57
        }
      ]
    },
    {
      "cell_type": "code",
      "source": [],
      "metadata": {
        "id": "BpkLCNwkRVLA"
      },
      "execution_count": null,
      "outputs": []
    },
    {
      "cell_type": "code",
      "source": [],
      "metadata": {
        "id": "kyBV9IjTRVIg"
      },
      "execution_count": null,
      "outputs": []
    },
    {
      "cell_type": "code",
      "source": [],
      "metadata": {
        "id": "29iYX-YFRVFc"
      },
      "execution_count": null,
      "outputs": []
    }
  ]
}